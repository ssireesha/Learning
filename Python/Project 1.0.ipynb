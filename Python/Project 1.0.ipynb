{
 "cells": [
  {
   "cell_type": "markdown",
   "id": "9f8d0526",
   "metadata": {},
   "source": [
    "# Project 1.0\n",
    "# Name ,stand, Div,rollno,subjects and percentage of the student"
   ]
  },
  {
   "cell_type": "code",
   "execution_count": 24,
   "id": "722310b8",
   "metadata": {},
   "outputs": [
    {
     "name": "stdout",
     "output_type": "stream",
     "text": [
      "Enter the name of the student Sireesha\n"
     ]
    }
   ],
   "source": [
    "name = input(\"Enter the name of the student \")"
   ]
  },
  {
   "cell_type": "code",
   "execution_count": 16,
   "id": "9c69bacd",
   "metadata": {},
   "outputs": [
    {
     "name": "stdout",
     "output_type": "stream",
     "text": [
      "Enter standard of the student 8\n"
     ]
    }
   ],
   "source": [
    "Standard = input(\"Enter standard of the student \")"
   ]
  },
  {
   "cell_type": "code",
   "execution_count": 4,
   "id": "514063b6",
   "metadata": {},
   "outputs": [
    {
     "name": "stdout",
     "output_type": "stream",
     "text": [
      "Enter Student Div: B\n"
     ]
    }
   ],
   "source": [
    "Student_Div = input(\"Enter Student Div: \")"
   ]
  },
  {
   "cell_type": "code",
   "execution_count": 5,
   "id": "3d6e8497",
   "metadata": {},
   "outputs": [
    {
     "name": "stdout",
     "output_type": "stream",
     "text": [
      "Enter the roll no 61\n"
     ]
    }
   ],
   "source": [
    "rollno = int(input(\"Enter the roll no \"))"
   ]
  },
  {
   "cell_type": "code",
   "execution_count": 7,
   "id": "305ef3b8",
   "metadata": {},
   "outputs": [
    {
     "name": "stdout",
     "output_type": "stream",
     "text": [
      "enter the maths marks of the student 85\n"
     ]
    }
   ],
   "source": [
    "maths = int(input(\"enter the maths marks of the student \"))"
   ]
  },
  {
   "cell_type": "code",
   "execution_count": 8,
   "id": "ebdeb1af",
   "metadata": {},
   "outputs": [
    {
     "name": "stdout",
     "output_type": "stream",
     "text": [
      "Enter the science marks of the student 90\n"
     ]
    }
   ],
   "source": [
    "science = int(input(\"Enter the science marks of the student \"))"
   ]
  },
  {
   "cell_type": "code",
   "execution_count": 9,
   "id": "55b94880",
   "metadata": {},
   "outputs": [
    {
     "name": "stdout",
     "output_type": "stream",
     "text": [
      "Enter the social marks of the student 83\n"
     ]
    }
   ],
   "source": [
    "social = int(input(\"Enter the social marks of the student \"))"
   ]
  },
  {
   "cell_type": "code",
   "execution_count": 10,
   "id": "1fde37ce",
   "metadata": {},
   "outputs": [
    {
     "name": "stdout",
     "output_type": "stream",
     "text": [
      "258\n"
     ]
    }
   ],
   "source": [
    "#Calculating total number of marks\n",
    "total_marks = maths+science+social\n",
    "print(total_marks)"
   ]
  },
  {
   "cell_type": "code",
   "execution_count": 11,
   "id": "d08faf8a",
   "metadata": {},
   "outputs": [
    {
     "name": "stdout",
     "output_type": "stream",
     "text": [
      "Percentage of the student is equal to  86.0\n"
     ]
    }
   ],
   "source": [
    "# Calculting percentage of marks\n",
    "percentage = (total_marks/3)\n",
    "\n",
    "print(\"Percentage of the student is equal to \",percentage)"
   ]
  },
  {
   "cell_type": "code",
   "execution_count": 25,
   "id": "8c52cc74",
   "metadata": {},
   "outputs": [
    {
     "name": "stdout",
     "output_type": "stream",
     "text": [
      "Sireesha\n",
      "8\n",
      "B\n",
      "61\n",
      "maths marks 85 and science marks 90  and social marks 83\n",
      "total marks 258\n",
      "pencentage 86.0\n"
     ]
    }
   ],
   "source": [
    "print(name)\n",
    "print(Standard)\n",
    "print(Student_Div)\n",
    "print(rollno)\n",
    "print(\"maths marks\",maths, \"and science marks\", science,\" and social marks\", social)\n",
    "print(\"total marks\",total_marks)\n",
    "print(\"pencentage\", percentage)"
   ]
  },
  {
   "cell_type": "code",
   "execution_count": null,
   "id": "6c4ffd8b",
   "metadata": {},
   "outputs": [],
   "source": []
  }
 ],
 "metadata": {
  "kernelspec": {
   "display_name": "Python 3",
   "language": "python",
   "name": "python3"
  },
  "language_info": {
   "codemirror_mode": {
    "name": "ipython",
    "version": 3
   },
   "file_extension": ".py",
   "mimetype": "text/x-python",
   "name": "python",
   "nbconvert_exporter": "python",
   "pygments_lexer": "ipython3",
   "version": "3.8.8"
  }
 },
 "nbformat": 4,
 "nbformat_minor": 5
}
